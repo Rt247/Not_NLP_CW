{
  "nbformat": 4,
  "nbformat_minor": 0,
  "metadata": {
    "colab": {
      "name": "NLP_CW.ipynb",
      "provenance": [],
      "authorship_tag": "ABX9TyOJxdohhefDVrAjtzvgXyBD",
      "include_colab_link": true
    },
    "kernelspec": {
      "name": "python3",
      "display_name": "Python 3"
    }
  },
  "cells": [
    {
      "cell_type": "markdown",
      "metadata": {
        "colab_type": "text",
        "id": "view-in-github"
      },
      "source": [
        "<a href=\"https://colab.research.google.com/github/Rt247/Not_NLP_CW/blob/master/NLP_CW.ipynb\" target=\"_parent\"><img src=\"https://colab.research.google.com/assets/colab-badge.svg\" alt=\"Open In Colab\"/></a>"
      ]
    },
    {
      "cell_type": "code",
      "execution_count": 30,
      "metadata": {},
      "outputs": [
        {
          "name": "stdout",
          "output_type": "stream",
          "text": "b'\\xe6\\xb1\\x89\\xe5\\xaf\\x86\\xe5\\xb0\\x94\\xe9\\xa1\\xbf\\xe5\\x9c\\xa8\\xe4\\xb9\\x94\\xe6\\xb2\\xbb \\xc2\\xb7 \\xe5\\x8d\\x8e\\xe7\\x9b\\x9b\\xe9\\xa1\\xbf\\xe7\\x9a\\x84\\xe9\\x80\\x89\\xe4\\xbb\\xbb\\xe7\\xbb\\x9f\\xe6\\xb2\\xbb\\xe4\\xb8\\x8b\\xe7\\x9b\\x91\\xe7\\x9d\\xa3\\xe4\\xbb\\x96\\xe7\\x9a\\x84\\xe5\\x90\\x8c\\xe4\\xba\\x8b\\xe4\\xbb\\xac.'\nb'-1.0228233810174194'\nb'Hamilton oversaw his colleagues under the elective reign of George Washington.'\nb'\\xe6\\x9c\\x80\\xe5\\x90\\x8e\\xe7\\x9a\\x84\\xe5\\xbe\\x81\\xe6\\x9c\\x8d\\xe8\\x80\\x85\\xe9\\xaa\\x91\\xe7\\x9d\\x80\\xe4\\xbb\\x96\\xe7\\x9a\\x84\\xe5\\x89\\x91\\xe7\\xbb\\xa7\\xe7\\xbb\\xad\\xe5\\x89\\x8d\\xe8\\xbf\\x9b.'\nb'-1.5284005772625449'\nb'The last conquistador then rides on with his sword drawn.'\nb'Milhaud also used jazz idioms, as in his Suite for clarinet, violin and piano.'\nb'\\xe7\\xb1\\xb3\\xe5\\x8b\\x92\\xe8\\xb1\\xaa\\xe5\\xbe\\xb7\\xe4\\xb9\\x9f\\xe4\\xbd\\xbf\\xe7\\x94\\xa8\\xe7\\x88\\xb5\\xe5\\xa3\\xab\\xe4\\xb9\\x90\\xe6\\x88\\x90\\xe8\\xaf\\xad, \\xe5\\xb0\\xb1\\xe5\\x83\\x8f\\xe4\\xbb\\x96\\xe7\\x9a\\x84\\xe5\\xa5\\x97\\xe6\\x88\\xbf\\xe9\\x87\\x8c\\xe4\\xbd\\xbf\\xe7\\x94\\xa8\\xe5\\x8d\\x95\\xe7\\xae\\xa1\\xe3\\x80\\x81\\xe5\\xb0\\x8f\\xe6\\x8f\\x90\\xe7\\x90\\xb4\\xe5\\x92\\x8c\\xe9\\x92\\xa2\\xe7\\x90\\xb4\\xe4\\xb8\\x80\\xe6\\xa0\\xb7.'\ndict_keys(['dev_enzh_mt', 'dev_enzh_scores', 'dev_enzh_src', 'train_enzh_mt', 'train_enzh_scores', 'train_enzh_src', 'test_enzh_src', 'test_enzh_mt'])\n"
        }
      ],
      "source": [
        "import urllib\n",
        "import json\n",
        "\n",
        "url_hash = \"384830ba34a2c9a1dfeb869062d8c6dc/raw/729c688d2bb4801a135a1f3824f30311a84de788\"\n",
        "\n",
        "data_set_load = {\n",
        "  \"url_dev_enzh_mt\": f'https://gist.githubusercontent.com/cheukwing/{url_hash}/dev.enzh.mt',\n",
        "  \"url_dev_enzh_scores\": f'https://gist.githubusercontent.com/cheukwing/{url_hash}/dev.enzh.scores',\n",
        "  \"url_dev_enzh_src\": f'https://gist.githubusercontent.com/cheukwing/{url_hash}/dev.enzh.src',\n",
        "  \"url_train_enzh_mt\": f'https://gist.githubusercontent.com/cheukwing/{url_hash}/train.enzh.mt',\n",
        "  \"url_train_enzh_scores\": f'https://gist.githubusercontent.com/cheukwing/{url_hash}/train.enzh.scores',\n",
        "  \"url_train_enzh_src\": f'https://gist.githubusercontent.com/cheukwing/{url_hash}/train.enzh.src',\n",
        "  \"url_test_enzh_src\": f'https://gist.githubusercontent.com/cheukwing/{url_hash}/test.enzh.src',\n",
        "  \"url_test_enzh_mt\": f'https://gist.githubusercontent.com/cheukwing/{url_hash}/test.enzh.mt',\n",
        "}\n",
        "\n",
        "data_sets = {}\n",
        "for key, value in data_set_load.items():\n",
        "  r = urllib.request.urlopen(value)\n",
        "  data = r.read().splitlines()\n",
        "  data_sets[key[4:]] = data\n",
        "  print(data_sets[key[4:]][0])\n",
        "\n",
        "print(data_sets.keys())"
      ]
    },
    {
      "cell_type": "code",
      "execution_count": null,
      "metadata": {},
      "outputs": [],
      "source": []
    }
  ]
}